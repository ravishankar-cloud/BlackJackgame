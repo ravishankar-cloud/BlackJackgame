{
  "nbformat": 4,
  "nbformat_minor": 0,
  "metadata": {
    "colab": {
      "provenance": [],
      "authorship_tag": "ABX9TyP6oSAtBAZiCP0f1nMkvjs9",
      "include_colab_link": true
    },
    "kernelspec": {
      "name": "python3",
      "display_name": "Python 3"
    },
    "language_info": {
      "name": "python"
    }
  },
  "cells": [
    {
      "cell_type": "markdown",
      "metadata": {
        "id": "view-in-github",
        "colab_type": "text"
      },
      "source": [
        "<a href=\"https://colab.research.google.com/github/ravishankar-cloud/BlackJackgame/blob/main/BlackJack.ipynb\" target=\"_parent\"><img src=\"https://colab.research.google.com/assets/colab-badge.svg\" alt=\"Open In Colab\"/></a>"
      ]
    },
    {
      "cell_type": "code",
      "execution_count": 32,
      "metadata": {
        "id": "s2oqbF5i8r3A"
      },
      "outputs": [],
      "source": [
        "  import random\n",
        "\n",
        "suits = ('Hearts', 'Diamonds', 'Spades', 'Clubs')\n",
        "ranks = ('Two', 'Three', 'Four', 'Five', 'Six', 'Seven', 'Eight', 'Nine', 'Ten', 'Jack', 'Queen', 'King', 'Ace')\n",
        "values = {'Two':2, 'Three':3, 'Four':4, 'Five':5, 'Six':6, 'Seven':7, 'Eight':8, 'Nine':9, 'Ten':10, 'Jack':10,\n",
        "         'Queen':10, 'King':10, 'Ace':11}\n",
        "\n",
        "playing = True"
      ]
    },
    {
      "cell_type": "code",
      "source": [
        "class Card:\n",
        "  def __init__(self,suit,rank):\n",
        "    self.suit=suit\n",
        "    self.rank=rank\n",
        "\n",
        "  def __str__(self):\n",
        "    return self.rank + \" of \" + self.suit\n"
      ],
      "metadata": {
        "id": "lMcpdHft9dDy"
      },
      "execution_count": 33,
      "outputs": []
    },
    {
      "cell_type": "code",
      "source": [
        "class Deck:\n",
        "\n",
        "    def __init__(self):\n",
        "        self.deck = []  # start with an empty list\n",
        "        for suit in suits:\n",
        "            for rank in ranks:\n",
        "                self.deck.append(Card(suit,rank))  # build Card objects and add them to the list\n",
        "\n",
        "    def __str__(self):\n",
        "        deck_comp = ''  # start with an empty string\n",
        "        for card in self.deck:\n",
        "            deck_comp += '\\n '+card.__str__() # add each Card object's print string\n",
        "        return 'The deck has:' + deck_comp\n",
        "\n",
        "    def shuffle(self):\n",
        "        random.shuffle(self.deck)\n",
        "\n",
        "    def deal(self):\n",
        "        single_card = self.deck.pop()\n",
        "        return single_card\n"
      ],
      "metadata": {
        "id": "CGLPizK797hz"
      },
      "execution_count": 34,
      "outputs": []
    },
    {
      "cell_type": "code",
      "source": [
        "test_deck=Deck()\n",
        "test_deck.shuffle()\n",
        "print(test_deck)"
      ],
      "metadata": {
        "colab": {
          "base_uri": "https://localhost:8080/"
        },
        "id": "06ktbfcUAzIk",
        "outputId": "1c787887-b9c7-4294-a7ee-35e111b8d728"
      },
      "execution_count": 35,
      "outputs": [
        {
          "output_type": "stream",
          "name": "stdout",
          "text": [
            "The deck has:\n",
            " Two of Spades\n",
            " Six of Diamonds\n",
            " King of Clubs\n",
            " Six of Hearts\n",
            " King of Spades\n",
            " Five of Diamonds\n",
            " Ace of Diamonds\n",
            " King of Diamonds\n",
            " Two of Hearts\n",
            " Four of Hearts\n",
            " Eight of Clubs\n",
            " Queen of Spades\n",
            " Ten of Diamonds\n",
            " Nine of Diamonds\n",
            " Four of Diamonds\n",
            " Three of Clubs\n",
            " Eight of Diamonds\n",
            " Queen of Diamonds\n",
            " Two of Clubs\n",
            " Five of Spades\n",
            " Seven of Hearts\n",
            " Ace of Clubs\n",
            " Six of Spades\n",
            " Jack of Diamonds\n",
            " Five of Clubs\n",
            " Ten of Hearts\n",
            " Nine of Hearts\n",
            " Jack of Spades\n",
            " Ace of Hearts\n",
            " Six of Clubs\n",
            " Eight of Spades\n",
            " Two of Diamonds\n",
            " Ten of Spades\n",
            " Ace of Spades\n",
            " Nine of Spades\n",
            " Ten of Clubs\n",
            " Jack of Hearts\n",
            " Queen of Hearts\n",
            " Nine of Clubs\n",
            " Three of Diamonds\n",
            " Three of Hearts\n",
            " Five of Hearts\n",
            " Three of Spades\n",
            " King of Hearts\n",
            " Jack of Clubs\n",
            " Four of Clubs\n",
            " Queen of Clubs\n",
            " Eight of Hearts\n",
            " Seven of Diamonds\n",
            " Seven of Spades\n",
            " Four of Spades\n",
            " Seven of Clubs\n"
          ]
        }
      ]
    },
    {
      "cell_type": "code",
      "source": [
        "class Hand:\n",
        "  def __init__(self):\n",
        "    self.cards=[]\n",
        "    self.value=0\n",
        "    self.aces=0\n",
        "\n",
        "  def add_card(self,card):\n",
        "    self.cards.append(card)\n",
        "    self.value+=values[card.rank]\n",
        "    if card.rank==\"Ace\":\n",
        "      self.aces+=1\n",
        "\n",
        "  def adjust_for_ace(self):\n",
        "    while self.value > 21 and self.aces:\n",
        "      self.value-=10\n",
        "      self.aces-=1"
      ],
      "metadata": {
        "id": "lFCJz82uCfbR"
      },
      "execution_count": 36,
      "outputs": []
    },
    {
      "cell_type": "code",
      "source": [
        "test_deck=Deck()\n",
        "test_deck.shuffle()\n",
        "test_player=Hand()\n",
        "pulled_card=test_deck.deal()\n",
        "print(pulled_card)\n",
        "test_player.add_card(pulled_card)\n",
        "print(test_player.value)"
      ],
      "metadata": {
        "colab": {
          "base_uri": "https://localhost:8080/"
        },
        "id": "cmZaMdGWq5X3",
        "outputId": "ba7bbd69-95b1-44eb-f419-6a8e12e814d0"
      },
      "execution_count": 37,
      "outputs": [
        {
          "output_type": "stream",
          "name": "stdout",
          "text": [
            "Two of Hearts\n",
            "2\n"
          ]
        }
      ]
    },
    {
      "cell_type": "code",
      "source": [
        "test_player.add_card(test_deck.deal())"
      ],
      "metadata": {
        "id": "K2xz3KU7rqNG"
      },
      "execution_count": 38,
      "outputs": []
    },
    {
      "cell_type": "code",
      "source": [
        "print(test_player.value)"
      ],
      "metadata": {
        "colab": {
          "base_uri": "https://localhost:8080/"
        },
        "id": "yjTY9xmTsnao",
        "outputId": "868e9645-88b0-4eca-8ffc-1353047b67ef"
      },
      "execution_count": 39,
      "outputs": [
        {
          "output_type": "stream",
          "name": "stdout",
          "text": [
            "9\n"
          ]
        }
      ]
    },
    {
      "cell_type": "code",
      "source": [
        "class Chips:\n",
        "  def __init__(self,total=100):\n",
        "    self.total=total\n",
        "    self.bet=0\n",
        "\n",
        "  def win_bet(self):\n",
        "    self.total+=self.bet\n",
        "\n",
        "  def lose_bet(self):\n",
        "    self.total-=self.bet"
      ],
      "metadata": {
        "id": "uJ21ecifsqZq"
      },
      "execution_count": 40,
      "outputs": []
    },
    {
      "cell_type": "code",
      "source": [
        "def take_bet(chips):\n",
        "  while True:\n",
        "    try:\n",
        "      chips.bet=int(input(\"HOw many chips would you like to bet? \"))\n",
        "    except:\n",
        "      print(\"Please provide an integer\")\n",
        "\n",
        "    else:\n",
        "      if chips.bet > chips.total:\n",
        "        print(\"Sorry, you do not have enough chips! You have {} \".format(chips.total))\n",
        "      else:\n",
        "        break\n",
        "\n"
      ],
      "metadata": {
        "id": "ealI49g8VHeA"
      },
      "execution_count": 41,
      "outputs": []
    },
    {
      "cell_type": "code",
      "source": [
        "def hit(deck,hand):\n",
        "  single_card=deck.deal()\n",
        "  hand.add_card(single_card)\n",
        "  hand.adjust_for_ace()"
      ],
      "metadata": {
        "id": "WjlOA2whfjtb"
      },
      "execution_count": 42,
      "outputs": []
    },
    {
      "cell_type": "code",
      "source": [
        "def hit_or_stand(deck,hand):\n",
        "  global playing\n",
        "  while True:\n",
        "    x=input(\"Hit or Stand? Enter h or s\")\n",
        "    if x[0].lower()=='h':\n",
        "      hit(deck,hand)\n",
        "\n",
        "    elif x[0].lower()=='s':\n",
        "      print(\"Player stands dealer's Turn\")\n",
        "      playing=False\n",
        "\n",
        "    else:\n",
        "      print(\"Sorry i didnot understand that, Please enter h or s only \")\n",
        "      continue\n",
        "\n",
        "    break\n"
      ],
      "metadata": {
        "id": "EcU1lMF-i16m"
      },
      "execution_count": 43,
      "outputs": []
    },
    {
      "cell_type": "code",
      "source": [
        "def show_some(player,dealer):\n",
        "  print(\"\\n Dealer's Hand: \")\n",
        "  print(\"First card Hidden! \")\n",
        "  print(dealer.cards[1])\n",
        "\n",
        "  print(\"\\n Player's hand: \")\n",
        "  for card in player.cards:\n",
        "    print(card)\n",
        "\n",
        "\n",
        "def show_all(player,dealer):\n",
        "\n",
        "    print(\"\\n Dealer's hand: \")\n",
        "    for card in dealer.cards:\n",
        "      print(card)\n",
        "\n",
        "    print(\"\\n Dealer's hand\",*dealer.cards,sep='\\n')\n",
        "    print(f\"Value of dealer's hand is : {dealer.value}\")\n",
        "\n",
        "    print(\"\\n Player's hand: \")\n",
        "    for card in player.cards:\n",
        "      print(card)\n",
        "    print(f\"value of player's hand is : {player.value}\")\n",
        "\n",
        "\n",
        "\n",
        "\n"
      ],
      "metadata": {
        "id": "AC9ADoabHUWe"
      },
      "execution_count": 44,
      "outputs": []
    },
    {
      "cell_type": "code",
      "source": [
        "def player_busts(player,dealer,chips):\n",
        "  print(\"BUST PLAYER! \")\n",
        "\n",
        "def player_wins(player,dealer,chips):\n",
        "  print('Player Wins')\n",
        "  chips.win_bet()\n",
        "\n",
        "def dealer_busts(player,dealer,chips):\n",
        "  print('Player  Wins! Dealer Busted ! ')\n",
        "  chips.win_bet()\n",
        "\n",
        "def dealer_wins(player,dealer,chips):\n",
        "  print('Dealer Wins !')\n",
        "  chips.lose_bet()\n",
        "\n",
        "def push(player,dealer):\n",
        "  print('Dealer and player tie ! PUSH ')\n"
      ],
      "metadata": {
        "id": "HKMHtOf3EEiz"
      },
      "execution_count": 45,
      "outputs": []
    },
    {
      "cell_type": "code",
      "source": [
        "  while True:\n",
        "     print(\"Welcome to Blackjack \")\n",
        "     deck=Deck()\n",
        "     deck.shuffle()\n",
        "     player_hand=Hand()\n",
        "     player_hand.add_card(deck.deal())\n",
        "     player_hand.add_card(deck.deal())\n",
        "\n",
        "     dealer_hand=Hand()\n",
        "     dealer_hand.add_card(deck.deal())\n",
        "     dealer_hand.add_card(deck.deal())\n",
        "\n",
        "     player_chips=Chips()\n",
        "     take_bet(player_chips)\n",
        "     show_some(player_hand,dealer_hand)\n",
        "\n",
        "     while playing:\n",
        "\n",
        "      hit_or_stand(deck,player_hand)\n",
        "      show_some(player_hand,dealer_hand)\n",
        "\n",
        "      if player_hand.value > 21:\n",
        "        player_busts(player_hand,dealer_hand,player_chips)\n",
        "        break\n",
        "\n",
        "      if player_hand.value <=21:\n",
        "        while dealer_hand.value < 17:\n",
        "          hit(deck,dealer_hand)\n",
        "        show_all(player_hand,dealer_hand)\n",
        "\n",
        "      if dealer_hand.value > 21:\n",
        "        dealer_busts(player_hand,dealer_hand,player_chips)\n",
        "      elif dealer_hand.value > player_hand.value:\n",
        "        dealer_wins(player_hand,dealer_hand,player_chips)\n",
        "\n",
        "      elif dealer_hand.value < player_hand.value:\n",
        "        player_wins(player_hand,dealer_hand,player_chips)\n",
        "\n",
        "      else:\n",
        "        push(player_hand,dealer_hand)\n",
        "\n",
        "      print('\\n Player total chips are at : {}'.format(player_chips.total))\n",
        "      new_game=input(\"would you like to play another hand? y/n \")\n",
        "\n",
        "      if new_game[0].lower()=='y':\n",
        "        playing=True\n",
        "        continue\n",
        "     else:\n",
        "        print(\"Thanks for playing!\")\n",
        "        break\n",
        "\n",
        "\n"
      ],
      "metadata": {
        "id": "2xBthRU6Go7h",
        "colab": {
          "base_uri": "https://localhost:8080/"
        },
        "outputId": "c03cfb2c-a696-4496-db7d-b9890cec9945"
      },
      "execution_count": 46,
      "outputs": [
        {
          "output_type": "stream",
          "name": "stdout",
          "text": [
            "Welcome to Blackjack \n",
            "HOw many chips would you like to bet? 15\n",
            "\n",
            " Dealer's Hand: \n",
            "First card Hidden! \n",
            "Five of Clubs\n",
            "\n",
            " Player's hand: \n",
            "Ace of Hearts\n",
            "Jack of Hearts\n",
            "Hit or Stand? Enter h or sh\n",
            "\n",
            " Dealer's Hand: \n",
            "First card Hidden! \n",
            "Five of Clubs\n",
            "\n",
            " Player's hand: \n",
            "Ace of Hearts\n",
            "Jack of Hearts\n",
            "Four of Spades\n",
            "\n",
            " Dealer's hand: \n",
            "Three of Spades\n",
            "Five of Clubs\n",
            "Four of Diamonds\n",
            "Nine of Spades\n",
            "\n",
            " Dealer's hand\n",
            "Three of Spades\n",
            "Five of Clubs\n",
            "Four of Diamonds\n",
            "Nine of Spades\n",
            "Value of dealer's hand is : 21\n",
            "\n",
            " Player's hand: \n",
            "Ace of Hearts\n",
            "Jack of Hearts\n",
            "Four of Spades\n",
            "value of player's hand is : 15\n",
            "Dealer Wins !\n",
            "\n",
            " Player total chips are at : 85\n",
            "would you like to play another hand? y/n n\n",
            "Hit or Stand? Enter h or ss\n",
            "Player stands dealer's Turn\n",
            "\n",
            " Dealer's Hand: \n",
            "First card Hidden! \n",
            "Five of Clubs\n",
            "\n",
            " Player's hand: \n",
            "Ace of Hearts\n",
            "Jack of Hearts\n",
            "Four of Spades\n",
            "\n",
            " Dealer's hand: \n",
            "Three of Spades\n",
            "Five of Clubs\n",
            "Four of Diamonds\n",
            "Nine of Spades\n",
            "\n",
            " Dealer's hand\n",
            "Three of Spades\n",
            "Five of Clubs\n",
            "Four of Diamonds\n",
            "Nine of Spades\n",
            "Value of dealer's hand is : 21\n",
            "\n",
            " Player's hand: \n",
            "Ace of Hearts\n",
            "Jack of Hearts\n",
            "Four of Spades\n",
            "value of player's hand is : 15\n",
            "Dealer Wins !\n",
            "\n",
            " Player total chips are at : 70\n",
            "would you like to play another hand? y/n n\n",
            "Thanks for playing!\n"
          ]
        }
      ]
    },
    {
      "cell_type": "code",
      "source": [],
      "metadata": {
        "id": "lG5Ofxwsy-8V"
      },
      "execution_count": 46,
      "outputs": []
    },
    {
      "cell_type": "code",
      "source": [],
      "metadata": {
        "id": "f7IKGTxbwzQS"
      },
      "execution_count": 46,
      "outputs": []
    }
  ]
}